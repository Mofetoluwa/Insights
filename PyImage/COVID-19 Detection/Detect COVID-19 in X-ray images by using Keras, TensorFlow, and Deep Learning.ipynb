{
 "cells": [
  {
   "cell_type": "markdown",
   "metadata": {},
   "source": [
    "# Detecting COVID-19 in X-ray Images - PyImage Search by Adrian Rosebrock\n",
    "\n",
    "This tutorial from PyImage search focuses on detecting COVID-19 through the use of X-ray images. COVID-19 attacks the epithelial cells that line the respiratory tract, therefore X-rays can be used to examine the health of a patient's lungs. \n",
    "\n",
    "\n",
    "Source: https://www.pyimagesearch.com/2020/03/16/detecting-covid-19-in-x-ray-images-with-keras-tensorflow-and-deep-learning/\n",
    "\n",
    "Disclaimer\n",
    "This blog post on automatic COVID-19 detection is for educational purposes only. It is not meant to be a reliable, highly accurate COVID-19 diagnosis system, nor has it been professionally or academically vetted.\n",
    "\n",
    "### Take-aways:\n",
    "- Educational purposes :)\n",
    "- Obtained ~90-92% accuracy solely on the X-ray images\n",
    "- Obtained 100% sesitivity and 80% specificity. This implies that:\n",
    "    - True Positives (those with COVID-19) are accurately identified 100% of the time.\n",
    "    - True Negatives (those without COVID-19) are accurately identified 80% of the time.\n",
    "- Despite having limited data, network did not overfit.\n",
    "- Limitation: Amount of Data :(\n",
    "\n"
   ]
  },
  {
   "cell_type": "code",
   "execution_count": 1,
   "metadata": {
    "scrolled": true
   },
   "outputs": [
    {
     "name": "stdout",
     "output_type": "stream",
     "text": [
      "Requirement already satisfied: tensorflow in c:\\users\\user\\anaconda3\\lib\\site-packages (2.1.0)\n",
      "Requirement already satisfied: opt-einsum>=2.3.2 in c:\\users\\user\\anaconda3\\lib\\site-packages (from tensorflow) (3.1.0)\n",
      "Requirement already satisfied: astor>=0.6.0 in c:\\users\\user\\anaconda3\\lib\\site-packages (from tensorflow) (0.8.0)\n",
      "Requirement already satisfied: termcolor>=1.1.0 in c:\\users\\user\\anaconda3\\lib\\site-packages (from tensorflow) (1.1.0)\n",
      "Requirement already satisfied: gast==0.2.2 in c:\\users\\user\\anaconda3\\lib\\site-packages (from tensorflow) (0.2.2)\n",
      "Requirement already satisfied: tensorflow-estimator<2.2.0,>=2.1.0rc0 in c:\\users\\user\\anaconda3\\lib\\site-packages (from tensorflow) (2.1.0)\n",
      "Requirement already satisfied: six>=1.12.0 in c:\\users\\user\\anaconda3\\lib\\site-packages (from tensorflow) (1.13.0)\n",
      "Requirement already satisfied: tensorboard<2.2.0,>=2.1.0 in c:\\users\\user\\anaconda3\\lib\\site-packages (from tensorflow) (2.1.0)\n",
      "Collecting scipy==1.4.1; python_version >= \"3\"\n",
      "  Downloading https://files.pythonhosted.org/packages/61/51/046cbc61c7607e5ecead6ff1a9453fba5e7e47a5ea8d608cc7036586a5ef/scipy-1.4.1-cp37-cp37m-win_amd64.whl (30.9MB)\n",
      "Requirement already satisfied: keras-applications>=1.0.8 in c:\\users\\user\\anaconda3\\lib\\site-packages (from tensorflow) (1.0.8)\n",
      "Requirement already satisfied: absl-py>=0.7.0 in c:\\users\\user\\anaconda3\\lib\\site-packages (from tensorflow) (0.9.0)\n",
      "Requirement already satisfied: wrapt>=1.11.1 in c:\\users\\user\\anaconda3\\lib\\site-packages (from tensorflow) (1.11.2)\n",
      "Requirement already satisfied: grpcio>=1.8.6 in c:\\users\\user\\anaconda3\\lib\\site-packages (from tensorflow) (1.27.2)\n",
      "Requirement already satisfied: numpy<2.0,>=1.16.0 in c:\\users\\user\\anaconda3\\lib\\site-packages (from tensorflow) (1.17.4)\n",
      "Requirement already satisfied: keras-preprocessing>=1.1.0 in c:\\users\\user\\anaconda3\\lib\\site-packages (from tensorflow) (1.1.0)\n",
      "Requirement already satisfied: protobuf>=3.8.0 in c:\\users\\user\\anaconda3\\lib\\site-packages (from tensorflow) (3.11.4)\n",
      "Requirement already satisfied: google-pasta>=0.1.6 in c:\\users\\user\\anaconda3\\lib\\site-packages (from tensorflow) (0.1.8)\n",
      "Requirement already satisfied: wheel>=0.26; python_version >= \"3\" in c:\\users\\user\\anaconda3\\lib\\site-packages (from tensorflow) (0.33.6)\n",
      "Requirement already satisfied: setuptools>=41.0.0 in c:\\users\\user\\anaconda3\\lib\\site-packages (from tensorboard<2.2.0,>=2.1.0->tensorflow) (44.0.0.post20200106)\n",
      "Requirement already satisfied: werkzeug>=0.11.15 in c:\\users\\user\\anaconda3\\lib\\site-packages (from tensorboard<2.2.0,>=2.1.0->tensorflow) (0.16.0)\n",
      "Requirement already satisfied: markdown>=2.6.8 in c:\\users\\user\\anaconda3\\lib\\site-packages (from tensorboard<2.2.0,>=2.1.0->tensorflow) (3.1.1)\n",
      "Requirement already satisfied: requests<3,>=2.21.0 in c:\\users\\user\\anaconda3\\lib\\site-packages (from tensorboard<2.2.0,>=2.1.0->tensorflow) (2.22.0)\n",
      "Requirement already satisfied: google-auth<2,>=1.6.3 in c:\\users\\user\\anaconda3\\lib\\site-packages (from tensorboard<2.2.0,>=2.1.0->tensorflow) (1.11.2)\n",
      "Requirement already satisfied: google-auth-oauthlib<0.5,>=0.4.1 in c:\\users\\user\\anaconda3\\lib\\site-packages (from tensorboard<2.2.0,>=2.1.0->tensorflow) (0.4.1)\n",
      "Requirement already satisfied: h5py in c:\\users\\user\\anaconda3\\lib\\site-packages (from keras-applications>=1.0.8->tensorflow) (2.9.0)\n",
      "Requirement already satisfied: chardet<3.1.0,>=3.0.2 in c:\\users\\user\\anaconda3\\lib\\site-packages (from requests<3,>=2.21.0->tensorboard<2.2.0,>=2.1.0->tensorflow) (3.0.4)\n",
      "Requirement already satisfied: certifi>=2017.4.17 in c:\\users\\user\\anaconda3\\lib\\site-packages (from requests<3,>=2.21.0->tensorboard<2.2.0,>=2.1.0->tensorflow) (2019.11.28)\n",
      "Requirement already satisfied: idna<2.9,>=2.5 in c:\\users\\user\\anaconda3\\lib\\site-packages (from requests<3,>=2.21.0->tensorboard<2.2.0,>=2.1.0->tensorflow) (2.8)\n",
      "Requirement already satisfied: urllib3!=1.25.0,!=1.25.1,<1.26,>=1.21.1 in c:\\users\\user\\anaconda3\\lib\\site-packages (from requests<3,>=2.21.0->tensorboard<2.2.0,>=2.1.0->tensorflow) (1.25.7)\n",
      "Requirement already satisfied: cachetools<5.0,>=2.0.0 in c:\\users\\user\\anaconda3\\lib\\site-packages (from google-auth<2,>=1.6.3->tensorboard<2.2.0,>=2.1.0->tensorflow) (3.1.1)\n",
      "Requirement already satisfied: pyasn1-modules>=0.2.1 in c:\\users\\user\\anaconda3\\lib\\site-packages (from google-auth<2,>=1.6.3->tensorboard<2.2.0,>=2.1.0->tensorflow) (0.2.7)\n",
      "Requirement already satisfied: rsa<4.1,>=3.1.4 in c:\\users\\user\\anaconda3\\lib\\site-packages (from google-auth<2,>=1.6.3->tensorboard<2.2.0,>=2.1.0->tensorflow) (4.0)\n",
      "Requirement already satisfied: requests-oauthlib>=0.7.0 in c:\\users\\user\\anaconda3\\lib\\site-packages (from google-auth-oauthlib<0.5,>=0.4.1->tensorboard<2.2.0,>=2.1.0->tensorflow) (1.3.0)\n",
      "Requirement already satisfied: pyasn1<0.5.0,>=0.4.6 in c:\\users\\user\\anaconda3\\lib\\site-packages (from pyasn1-modules>=0.2.1->google-auth<2,>=1.6.3->tensorboard<2.2.0,>=2.1.0->tensorflow) (0.4.8)\n",
      "Requirement already satisfied: oauthlib>=3.0.0 in c:\\users\\user\\anaconda3\\lib\\site-packages (from requests-oauthlib>=0.7.0->google-auth-oauthlib<0.5,>=0.4.1->tensorboard<2.2.0,>=2.1.0->tensorflow) (3.1.0)\n",
      "Installing collected packages: scipy\n",
      "  Found existing installation: scipy 1.3.2\n",
      "    Uninstalling scipy-1.3.2:\n",
      "      Successfully uninstalled scipy-1.3.2\n",
      "Successfully installed scipy-1.4.1\n",
      "Note: you may need to restart the kernel to use updated packages.\n"
     ]
    }
   ],
   "source": [
    "pip install tensorflow"
   ]
  },
  {
   "cell_type": "code",
   "execution_count": 11,
   "metadata": {},
   "outputs": [
    {
     "name": "stdout",
     "output_type": "stream",
     "text": [
      "Collecting opencv-python\n",
      "  Downloading https://files.pythonhosted.org/packages/5a/af/dabae171f885ec4d9b2fe6aaf74c1d50a8d32106d840b9fb8eb0095a578d/opencv_python-4.2.0.32-cp37-cp37m-win_amd64.whl (33.0MB)\n",
      "Requirement already satisfied: numpy>=1.14.5 in c:\\users\\user\\anaconda3\\lib\\site-packages (from opencv-python) (1.17.4)\n",
      "Installing collected packages: opencv-python\n",
      "Successfully installed opencv-python-4.2.0.32\n",
      "Note: you may need to restart the kernel to use updated packages.\n"
     ]
    }
   ],
   "source": [
    "pip install opencv-python"
   ]
  },
  {
   "cell_type": "code",
   "execution_count": null,
   "metadata": {},
   "outputs": [],
   "source": [
    "# Import relevant libraries\n",
    "# Tensorflow 2.0 and Keras for Deep learning\n",
    "# Scikit-learn for Machinelearning processes\n",
    "# Matplotlib for plotting\n",
    "# OpenCV for loading and Preprocessing images\n",
    "\n",
    "from tensorflow.keras.preprocessing.image import ImageDataGenerator\n",
    "from tensorflow.keras.applications import VGG16\n",
    "from tensorflow.keras.layers import AveragePooling2D, Dropout, Flatten\n",
    "from tensorflow.keras.layers import Input, Dense\n",
    "from tensorflow.keras.models import Model\n",
    "from tensorflow.keras.optimizers import Adam\n",
    "from tensorflow.keras.utils import to_categorical\n",
    "from sklearn.preprocessing import LabelBinarizer\n",
    "from sklearn.model_selection import train_test_split\n",
    "from sklearn.metrics import classification_report\n",
    "from sklearn.metrics import confusion_matrix\n",
    "from imutils import paths\n",
    "import matplotlib.pyplot as plt\n",
    "import numpy as np\n",
    "import argparse\n",
    "import cv2\n",
    "import os"
   ]
  },
  {
   "cell_type": "code",
   "execution_count": 2,
   "metadata": {},
   "outputs": [],
   "source": [
    "# Parse command line arguments and initialize hyperparameters\n",
    "\n",
    "# parser = argparser.ArgumentParser()\n",
    "\n",
    "# parser.add_argument(\"-d\", \"--dataset\", required=True,\n",
    "#                     help=\"Path to input dataset\")\n",
    "# parser.add_argument(\"-p\", \"--plot\", type=str, default=\"plot.png\",\n",
    "#                     help=\"path to output loss/accuracy plot\")\n",
    "# parser.add_argument()\n",
    "# parser.add_argument()"
   ]
  },
  {
   "cell_type": "code",
   "execution_count": 1,
   "metadata": {},
   "outputs": [],
   "source": [
    "# Initialize initial Learning rate, number of Epochs to train for and batch size\n",
    "\n",
    "INIT_LR = 1e-3\n",
    "EPOCHS = 25\n",
    "BS = 8"
   ]
  },
  {
   "cell_type": "markdown",
   "metadata": {},
   "source": [
    "### Load Dataset and Preprocess Images"
   ]
  },
  {
   "cell_type": "code",
   "execution_count": 3,
   "metadata": {},
   "outputs": [
    {
     "name": "stdout",
     "output_type": "stream",
     "text": [
      "[INFO] Loading images...\n"
     ]
    }
   ],
   "source": [
    "# Get Images from the dataset directory and initialize\n",
    "# list of images and image classes\n",
    "print(\"[INFO] Loading images...\")\n",
    "imagePaths = list(paths.list_images(\"dataset\"))\n",
    "images = []\n",
    "labels = []\n",
    "#print(imagePaths)\n",
    "\n",
    "# Loop over the image paths\n",
    "for imagePath in imagePaths:\n",
    "    # extract the class label from the filename\n",
    "    label = imagePath.split(os.path.sep)[-2]\n",
    "    \n",
    "    # load the image, swap color channels, resize to 224x224\n",
    "    image = cv2.imread(imagePath)\n",
    "    image = cv2.cvtColor(image, cv2.COLOR_BGR2RGB)\n",
    "    image = cv2.resize(image, (224, 224))\n",
    "    \n",
    "    # Update data and labels lists\n",
    "    images.append(image)\n",
    "    labels.append(label)\n",
    "    \n",
    "\n",
    "# Convert the data and labels to Numpy arrays while scaling pixel\n",
    "# intensities to range [0, 1]\n",
    "images = np.array(images) / 255.0\n",
    "labels = np.array(labels)"
   ]
  },
  {
   "cell_type": "code",
   "execution_count": 4,
   "metadata": {},
   "outputs": [],
   "source": [
    "# Perform one-hot encoding on the labels\n",
    "label_bin = LabelBinarizer()\n",
    "labels = label_bin.fit_transform(labels)\n",
    "labels = to_categorical(labels)\n",
    "\n",
    "# Split dataset into training and testing\n",
    "train_X, test_X, train_y, test_y = train_test_split(images, labels,\n",
    "                                                   test_size=0.2, stratify=labels,\n",
    "                                                   random_state=42)\n",
    "\n",
    "# Initialize the training data augmentation object\n",
    "train_aug = ImageDataGenerator(rotation_range=15, \n",
    "                               fill_mode=\"nearest\")"
   ]
  },
  {
   "cell_type": "markdown",
   "metadata": {},
   "source": [
    "Initialize VGGNet Model and set up for fine-tuning"
   ]
  },
  {
   "cell_type": "code",
   "execution_count": 5,
   "metadata": {},
   "outputs": [],
   "source": [
    "# Load VGG16 network, ensuring the FC (Fully Connected) layer \n",
    "# sets are left off\n",
    "\n",
    "base_model = VGG16(weights=\"imagenet\", include_top=False,\n",
    "                  input_tensor=Input(shape=(224, 224, 3)))\n",
    "\n",
    "# Construct the head of the model that will be placed on top \n",
    "# of the base model\n",
    "head_model = base_model.output\n",
    "head_model = AveragePooling2D(pool_size=(4,4))(head_model)\n",
    "head_model = Flatten(name=\"flatten\")(head_model)\n",
    "head_model = Dense(64, activation=\"relu\")(head_model)\n",
    "head_model = Dropout(0.5)(head_model)\n",
    "head_model = Dense(2, activation=\"softmax\")(head_model)\n",
    "\n",
    "# Place the head FC model on top of the base model (this will\n",
    "# become the actual model we will train)\n",
    "model = Model(inputs=base_model.input, outputs=head_model)\n",
    "\n",
    "# Loop over all layers in the base model and freeze them so they\n",
    "# will not be updated during the first training process\n",
    "for layer in base_model.layers:\n",
    "    layer.trainable = False"
   ]
  },
  {
   "cell_type": "markdown",
   "metadata": {},
   "source": [
    "Compile and train the COVID-19 Deep learning model"
   ]
  },
  {
   "cell_type": "code",
   "execution_count": 6,
   "metadata": {},
   "outputs": [
    {
     "name": "stdout",
     "output_type": "stream",
     "text": [
      "[INFO] compiling model...\n",
      "[INFO] Training head...\n",
      "WARNING:tensorflow:From <ipython-input-6-fa3b172f865b>:13: Model.fit_generator (from tensorflow.python.keras.engine.training) is deprecated and will be removed in a future version.\n",
      "Instructions for updating:\n",
      "Please use Model.fit, which supports generators.\n",
      "WARNING:tensorflow:sample_weight modes were coerced from\n",
      "  ...\n",
      "    to  \n",
      "  ['...']\n",
      "Train for 5 steps, validate on 10 samples\n",
      "Epoch 1/25\n",
      "5/5 [==============================] - 87s 17s/step - loss: 0.7765 - accuracy: 0.5250 - val_loss: 0.5036 - val_accuracy: 0.5000\n",
      "Epoch 2/25\n",
      "5/5 [==============================] - 53s 11s/step - loss: 0.7927 - accuracy: 0.4750 - val_loss: 0.5544 - val_accuracy: 0.5000\n",
      "Epoch 3/25\n",
      "5/5 [==============================] - 58s 12s/step - loss: 0.6873 - accuracy: 0.5500 - val_loss: 0.5047 - val_accuracy: 0.5000\n",
      "Epoch 4/25\n",
      "5/5 [==============================] - 57s 11s/step - loss: 0.6832 - accuracy: 0.6000 - val_loss: 0.4702 - val_accuracy: 0.8750\n",
      "Epoch 5/25\n",
      "5/5 [==============================] - 54s 11s/step - loss: 0.5710 - accuracy: 0.7750 - val_loss: 0.4653 - val_accuracy: 0.8750\n",
      "Epoch 6/25\n",
      "5/5 [==============================] - 54s 11s/step - loss: 0.5241 - accuracy: 0.7500 - val_loss: 0.4465 - val_accuracy: 0.8750\n",
      "Epoch 7/25\n",
      "5/5 [==============================] - 57s 11s/step - loss: 0.5860 - accuracy: 0.7000 - val_loss: 0.4305 - val_accuracy: 0.8750\n",
      "Epoch 8/25\n",
      "5/5 [==============================] - 59s 12s/step - loss: 0.5851 - accuracy: 0.6000 - val_loss: 0.4244 - val_accuracy: 1.0000\n",
      "Epoch 9/25\n",
      "5/5 [==============================] - 56s 11s/step - loss: 0.5086 - accuracy: 0.8000 - val_loss: 0.4082 - val_accuracy: 0.8750\n",
      "Epoch 10/25\n",
      "5/5 [==============================] - 60s 12s/step - loss: 0.5801 - accuracy: 0.6250 - val_loss: 0.3910 - val_accuracy: 0.8750\n",
      "Epoch 11/25\n",
      "5/5 [==============================] - 54s 11s/step - loss: 0.4777 - accuracy: 0.8250 - val_loss: 0.3796 - val_accuracy: 0.8750\n",
      "Epoch 12/25\n",
      "5/5 [==============================] - 65s 13s/step - loss: 0.4816 - accuracy: 0.7750 - val_loss: 0.3690 - val_accuracy: 0.8750\n",
      "Epoch 13/25\n",
      "5/5 [==============================] - 53s 11s/step - loss: 0.5113 - accuracy: 0.7750 - val_loss: 0.3604 - val_accuracy: 1.0000\n",
      "Epoch 14/25\n",
      "5/5 [==============================] - 56s 11s/step - loss: 0.4502 - accuracy: 0.9000 - val_loss: 0.3475 - val_accuracy: 1.0000\n",
      "Epoch 15/25\n",
      "5/5 [==============================] - 70s 14s/step - loss: 0.4695 - accuracy: 0.8250 - val_loss: 0.3319 - val_accuracy: 0.8750\n",
      "Epoch 16/25\n",
      "5/5 [==============================] - 104s 21s/step - loss: 0.4526 - accuracy: 0.8500 - val_loss: 0.3163 - val_accuracy: 0.8750\n",
      "Epoch 17/25\n",
      "5/5 [==============================] - 70s 14s/step - loss: 0.4232 - accuracy: 0.8750 - val_loss: 0.3054 - val_accuracy: 0.8750\n",
      "Epoch 18/25\n",
      "5/5 [==============================] - 63s 13s/step - loss: 0.3735 - accuracy: 0.9000 - val_loss: 0.2948 - val_accuracy: 0.8750\n",
      "Epoch 19/25\n",
      "5/5 [==============================] - 55s 11s/step - loss: 0.3956 - accuracy: 0.9000 - val_loss: 0.2830 - val_accuracy: 0.8750\n",
      "Epoch 20/25\n",
      "5/5 [==============================] - 58s 12s/step - loss: 0.3804 - accuracy: 0.9000 - val_loss: 0.2691 - val_accuracy: 1.0000\n",
      "Epoch 21/25\n",
      "5/5 [==============================] - 57s 11s/step - loss: 0.4092 - accuracy: 0.8750 - val_loss: 0.2575 - val_accuracy: 1.0000\n",
      "Epoch 22/25\n",
      "5/5 [==============================] - 59s 12s/step - loss: 0.3617 - accuracy: 0.9250 - val_loss: 0.2456 - val_accuracy: 0.8750\n",
      "Epoch 23/25\n",
      "5/5 [==============================] - 57s 11s/step - loss: 0.3635 - accuracy: 0.9500 - val_loss: 0.2380 - val_accuracy: 0.8750\n",
      "Epoch 24/25\n",
      "5/5 [==============================] - 62s 12s/step - loss: 0.3632 - accuracy: 0.8250 - val_loss: 0.2294 - val_accuracy: 0.8750\n",
      "Epoch 25/25\n",
      "5/5 [==============================] - 55s 11s/step - loss: 0.3566 - accuracy: 0.8500 - val_loss: 0.2222 - val_accuracy: 0.8750\n"
     ]
    }
   ],
   "source": [
    "# Compile model\n",
    "print(\"[INFO] compiling model...\")\n",
    "optimize = Adam(lr=INIT_LR, decay=INIT_LR / EPOCHS)\n",
    "model.compile(loss=\"binary_crossentropy\", optimizer=optimize,\n",
    "             metrics=[\"accuracy\"])\n",
    "\n",
    "# Train the head of the network\n",
    "print(\"[INFO] Training head...\")\n",
    "H = model.fit_generator(train_aug.flow(train_X, train_y, batch_size=BS),\n",
    "                       steps_per_epoch=len(train_X) // BS,\n",
    "                       validation_data=(test_X, test_y),\n",
    "                       validation_steps=len(test_X) // BS,\n",
    "                       epochs=EPOCHS)"
   ]
  },
  {
   "cell_type": "markdown",
   "metadata": {},
   "source": [
    "Then we evaluate the model"
   ]
  },
  {
   "cell_type": "code",
   "execution_count": 7,
   "metadata": {},
   "outputs": [
    {
     "name": "stdout",
     "output_type": "stream",
     "text": [
      "[INFO] Evaluating network...\n",
      "              precision    recall  f1-score   support\n",
      "\n",
      "       covid       0.83      1.00      0.91         5\n",
      "      normal       1.00      0.80      0.89         5\n",
      "\n",
      "    accuracy                           0.90        10\n",
      "   macro avg       0.92      0.90      0.90        10\n",
      "weighted avg       0.92      0.90      0.90        10\n",
      "\n"
     ]
    }
   ],
   "source": [
    "# Make predictions on the testing set\n",
    "print(\"[INFO] Evaluating network...\")\n",
    "predIdxs = model.predict(test_X, batch_size=BS)\n",
    "\n",
    "# For each image in the test set, we need to find the index\n",
    "# of the label with corresponnding largest predicted probability\n",
    "predIdxs = np.argmax(predIdxs, axis=1)\n",
    "\n",
    "# Show a nicely formatted classification report\n",
    "print(classification_report(test_y.argmax(axis=1), predIdxs,\n",
    "                           target_names=label_bin.classes_))"
   ]
  },
  {
   "cell_type": "markdown",
   "metadata": {},
   "source": [
    "Compute Confusion Matrix for statistica evaluation."
   ]
  },
  {
   "cell_type": "code",
   "execution_count": 9,
   "metadata": {},
   "outputs": [
    {
     "name": "stdout",
     "output_type": "stream",
     "text": [
      "[[5 0]\n",
      " [1 4]]\n",
      "Acc: 0.9000\n",
      "Sensitivity: 1.0000\n",
      "Specificity: 0.8000\n"
     ]
    }
   ],
   "source": [
    "# Compute Confusion matrix and use it to derive the raw accuracy, \n",
    "# sensitivity and specificity\n",
    "conf_matrix = confusion_matrix(test_y.argmax(axis=1), predIdxs)\n",
    "total = sum(sum(conf_matrix))\n",
    "acc = (conf_matrix[0, 0] + conf_matrix[1, 1]) / total\n",
    "sensitivity = conf_matrix[0, 0] / (conf_matrix[0, 0] + conf_matrix[0, 1])\n",
    "specificity = conf_matrix[1, 1] / (conf_matrix[1, 0] + conf_matrix[1, 1])\n",
    "\n",
    "# Show Confusion matrix, accuracy, sensitivity and specificity\n",
    "print(conf_matrix)\n",
    "print(\"Acc: {:.4f}\".format(acc))\n",
    "print(\"Sensitivity: {:.4f}\".format(sensitivity))\n",
    "print(\"Specificity: {:.4f}\".format(specificity))"
   ]
  },
  {
   "cell_type": "markdown",
   "metadata": {},
   "source": [
    "Then we plot the training accuracy/loss history for inspection, outputting the plot to an image file:"
   ]
  },
  {
   "cell_type": "code",
   "execution_count": 10,
   "metadata": {
    "scrolled": true
   },
   "outputs": [
    {
     "data": {
      "image/png": "[encoded data removed]",
      "text/plain": [
       "<Figure size 432x288 with 1 Axes>"
      ]
     },
     "metadata": {},
     "output_type": "display_data"
    }
   ],
   "source": [
    "# Plot the training loss and accuracy\n",
    "N = EPOCHS\n",
    "plt.style.use(\"ggplot\")\n",
    "plt.figure()\n",
    "plt.plot(np.arange(0, N), H.history[\"loss\"], label=\"train_loss\")\n",
    "plt.plot(np.arange(0, N), H.history[\"val_loss\"], label=\"val_loss\")\n",
    "plt.plot(np.arange(0, N), H.history[\"accuracy\"], label=\"train_acc\")\n",
    "plt.plot(np.arange(0, N), H.history[\"val_accuracy\"], label=\"val_acc\")\n",
    "plt.title(\"Training Loss and Accuracy on COVID-19 Dataset\")\n",
    "plt.xlabel(\"Epoch #\")\n",
    "plt.ylabel(\"Loss/Accuracy\")\n",
    "plt.legend(loc=\"lower left\")\n",
    "plt.savefig(\"plot.png\")"
   ]
  },
  {
   "cell_type": "markdown",
   "metadata": {},
   "source": [
    "Finally, we serialize the tf.keras classifier model to disk."
   ]
  },
  {
   "cell_type": "code",
   "execution_count": 11,
   "metadata": {},
   "outputs": [
    {
     "name": "stdout",
     "output_type": "stream",
     "text": [
      "[INFO] Saving COVID-19 detector model...\n"
     ]
    }
   ],
   "source": [
    "# Serialize the model to disk\n",
    "print(\"[INFO] Saving COVID-19 detector model...\")\n",
    "model.save(\"covid-19.model\", save_format=\"h5\")"
   ]
  }
 ],
 "metadata": {
  "kernelspec": {
   "display_name": "Python 3",
   "language": "python",
   "name": "python3"
  },
  "language_info": {
   "codemirror_mode": {
    "name": "ipython",
    "version": 3
   },
   "file_extension": ".py",
   "mimetype": "text/x-python",
   "name": "python",
   "nbconvert_exporter": "python",
   "pygments_lexer": "ipython3",
   "version": "3.7.3"
  }
 },
 "nbformat": 4,
 "nbformat_minor": 2
}
