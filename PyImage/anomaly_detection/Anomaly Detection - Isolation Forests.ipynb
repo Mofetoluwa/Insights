{
 "cells": [
  {
   "cell_type": "markdown",
   "metadata": {},
   "source": [
    "## Intro to anomaly detection with OpenCV, Computer Vision, and scikit-learn - PyImage Search by Adrian Rosebrock"
   ]
  },
  {
   "cell_type": "markdown",
   "metadata": {},
   "source": [
    "Source: https://www.pyimagesearch.com/2020/01/20/intro-to-anomaly-detection-with-opencv-computer-vision-and-scikit-learn/\n",
    "\n",
    "In this tutorial, we learn how to perform anomaly/novelty detection in image datasets (spot outliers and anomalies in your own image datasets) using OpenCV, Computer Vision, and the scikit-learn machine learning library.\n",
    "\n",
    "How are machine learning algorithms, which tend to work optimally with balanced datasets, supposed to work when the anomalies we want to detect may only happen 1%, 0.1%, or 0.0001% of the time? Luckily, machine learning researchers have investigated this type of problem and have devised algorithms to handle the task.\n",
    "\n",
    "Key Take-aways:\n",
    "- Two types of events: Standard events and Anomaly events\n",
    "- Anomaly detection algorithms are broken into two types:\n",
    "    - Outlier detection: Includes Standard and Anomaly events in training data. Unsupervised learners used.\n",
    "    - Novelty detection: Includes only labelled Standard events for training. Supervised learners used.\n",
    "- Novelty detection is done in this tutorial.\n",
    "- Isolation forests is the ensemble algorithm used. Isolation forests are a type of ensemble algorithm and consist of multiple decision trees used to partition the input dataset into distinct groups of inliers.\n",
    "- The task is to determine the anomaly among three images when compared to 15 other Standard event images. \n",
    "    \n",
    "\n",
    "        "
   ]
  },
  {
   "cell_type": "code",
   "execution_count": 1,
   "metadata": {},
   "outputs": [],
   "source": [
    "# Import Relevant libraries\n",
    "# Import relevant libraries\n",
    "from imutils import paths\n",
    "import numpy as np\n",
    "import cv2\n"
   ]
  },
  {
   "cell_type": "markdown",
   "metadata": {},
   "source": [
    "### Load and Process Data"
   ]
  },
  {
   "cell_type": "markdown",
   "metadata": {},
   "source": [
    "Define a fuction to quantify and characterize the contents of input images using color histograms."
   ]
  },
  {
   "cell_type": "code",
   "execution_count": null,
   "metadata": {},
   "outputs": [],
   "source": [
    "def quantify_image(image, bins=(4, 6, 3)):\n",
    "    \"\"\"Create color histograms to quantify and characterize the contents of input images\"\"\"\n",
    "    \n",
    "    # Compute a 3D color histogram over an images and normalize it\n",
    "    hist = cv2.calcHist([image], [0, 1, 2], None, bins, \n",
    "                        [0, 180, 0, 256, 0, 256])\n",
    "    hist = cv2.normalize(hist, hist).flatten()\n",
    "    \n",
    "    # Return the histogram\n",
    "    return hist"
   ]
  },
  {
   "cell_type": "markdown",
   "metadata": {},
   "source": [
    "Then we load the dataset and loop the image paths while quantifying them using the quantify_image method"
   ]
  },
  {
   "cell_type": "code",
   "execution_count": null,
   "metadata": {},
   "outputs": [],
   "source": [
    "# Grab the paths to all images in our dataset directory, then \n",
    "# initilaize our lists of images\n",
    "image_paths = list(paths.list_images(\"C:\\Users\\user\\Documents\\Machine Learning\\Education\\intro-anomaly-detection\\intro-anomaly-detection\\forest\"))\n"
   ]
  }
 ],
 "metadata": {
  "kernelspec": {
   "display_name": "Python 3",
   "language": "python",
   "name": "python3"
  },
  "language_info": {
   "codemirror_mode": {
    "name": "ipython",
    "version": 3
   },
   "file_extension": ".py",
   "mimetype": "text/x-python",
   "name": "python",
   "nbconvert_exporter": "python",
   "pygments_lexer": "ipython3",
   "version": "3.7.3"
  }
 },
 "nbformat": 4,
 "nbformat_minor": 2
}
