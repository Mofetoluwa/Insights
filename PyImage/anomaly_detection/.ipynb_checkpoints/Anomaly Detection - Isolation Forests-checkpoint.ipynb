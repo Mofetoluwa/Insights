{
 "cells": [
  {
   "cell_type": "markdown",
   "metadata": {},
   "source": [
    "## Intro to anomaly detection with OpenCV, Computer Vision, and scikit-learn - PyImage Search by Adrian Rosebrock"
   ]
  },
  {
   "cell_type": "markdown",
   "metadata": {},
   "source": [
    "Source: https://www.pyimagesearch.com/2020/01/20/intro-to-anomaly-detection-with-opencv-computer-vision-and-scikit-learn/\n",
    "\n",
    "In this tutorial, we learn how to perform anomaly/novelty detection in image datasets (spot outliers and anomalies in your own image datasets) using OpenCV, Computer Vision, and the scikit-learn machine learning library.\n",
    "\n",
    "How are machine learning algorithms, which tend to work optimally with balanced datasets, supposed to work when the anomalies we want to detect may only happen 1%, 0.1%, or 0.0001% of the time? Luckily, machine learning researchers have investigated this type of problem and have devised algorithms to handle the task.\n",
    "\n",
    "Key Take-aways:\n",
    "- Two types of events: Standard events and Anomaly events\n",
    "- Anomaly detection algorithms are broken into two types:\n",
    "    - Outlier detection: Includes Standard and Anomaly events in training data. Unsupervised learners used.\n",
    "    - Novelty detection: Includes only labelled Standard events for training. Supervised learners used.\n",
    "- Novelty detection is done in this tutorial.\n",
    "- Isolation forests is the ensemble algorithm used. Isolation forests are a type of ensemble algorithm and consist of multiple decision trees used to partition the input dataset into distinct groups of inliers. https://scikit-learn.org/stable/modules/generated/sklearn.ensemble.IsolationForest.html\n",
    "- The task is to determine the anomaly among three images when compared to 15 other Standard event images. \n",
    "    \n",
    "\n",
    "        "
   ]
  },
  {
   "cell_type": "code",
   "execution_count": 11,
   "metadata": {},
   "outputs": [],
   "source": [
    "# Import Relevant libraries\n",
    "# Import relevant libraries\n",
    "from imutils import paths\n",
    "import numpy as np\n",
    "import cv2\n",
    "import pickle\n",
    "from sklearn.ensemble import IsolationForest"
   ]
  },
  {
   "cell_type": "markdown",
   "metadata": {},
   "source": [
    "### Load and Process Data"
   ]
  },
  {
   "cell_type": "markdown",
   "metadata": {},
   "source": [
    "Define a fuction to quantify and characterize the contents of input images using color histograms."
   ]
  },
  {
   "cell_type": "code",
   "execution_count": 6,
   "metadata": {},
   "outputs": [],
   "source": [
    "def quantify_image(image, bins=(4, 6, 3)):\n",
    "    \"\"\"Create color histograms to quantify and characterize the contents of input images\"\"\"\n",
    "    \n",
    "    # Compute a 3D color histogram over an images and normalize it\n",
    "    hist = cv2.calcHist([image], [0, 1, 2], None, bins, \n",
    "                        [0, 180, 0, 256, 0, 256])\n",
    "    hist = cv2.normalize(hist, hist).flatten()\n",
    "    \n",
    "    # Return the histogram\n",
    "    return hist"
   ]
  },
  {
   "cell_type": "markdown",
   "metadata": {},
   "source": [
    "Then we load the dataset and loop the image paths while quantifying them using the quantify_image method"
   ]
  },
  {
   "cell_type": "code",
   "execution_count": 8,
   "metadata": {},
   "outputs": [],
   "source": [
    "# Grab the paths to all images in our dataset directory, then \n",
    "# initilaize our lists of images\n",
    "image_paths = list(paths.list_images(\"forest\"))\n",
    "data = []\n",
    "\n",
    "# Loop over the image paths\n",
    "for image_path in image_paths:\n",
    "    \n",
    "    # Load the image and convert it to the HSV color space\n",
    "    image = cv2.imread(image_path)\n",
    "    image = cv2.cvtColor(image, cv2.COLOR_BGR2HSV)\n",
    "    \n",
    "    # Quatify the image and update the data list\n",
    "    features = quantify_image(image)\n",
    "    data.append(features)\n",
    "    \n",
    "data = np.array(data)"
   ]
  },
  {
   "cell_type": "markdown",
   "metadata": {},
   "source": [
    "### Implement Anomaly Detection Algorithm"
   ]
  },
  {
   "cell_type": "code",
   "execution_count": 10,
   "metadata": {},
   "outputs": [
    {
     "data": {
      "text/plain": [
       "IsolationForest(behaviour='deprecated', bootstrap=False, contamination=0.01,\n",
       "                max_features=1.0, max_samples='auto', n_estimators=100,\n",
       "                n_jobs=None, random_state=42, verbose=0, warm_start=False)"
      ]
     },
     "execution_count": 10,
     "metadata": {},
     "output_type": "execute_result"
    }
   ],
   "source": [
    "# Train Anomaly Detection model\n",
    "model = IsolationForest(n_estimators=100, contamination=0.01,\n",
    "                       random_state=42)\n",
    "model.fit(data)"
   ]
  },
  {
   "cell_type": "code",
   "execution_count": 12,
   "metadata": {},
   "outputs": [],
   "source": [
    "# To serialize detector to a pickle file on disk\n",
    "\"\"\"with open(\"anomaly_detector.model\", \"wb\") as f:\n",
    "    f.write(pickle.dumps(model))\n",
    "    f.close()\"\"\""
   ]
  },
  {
   "cell_type": "markdown",
   "metadata": {},
   "source": [
    "### Test for anomaly in images"
   ]
  },
  {
   "cell_type": "code",
   "execution_count": 16,
   "metadata": {},
   "outputs": [
    {
     "name": "stdout",
     "output_type": "stream",
     "text": [
      "['examples\\\\coast_osun52.jpg', 'examples\\\\forest_cdmc290.jpg', 'examples\\\\highway_a836030.jpg']\n"
     ]
    }
   ],
   "source": [
    "# Load the input image, convert it to the HSV color space, and\n",
    "# quantify the image in the same manner we did during training\n",
    "\n",
    "test_images = list(paths.list_images(\"examples\"))\n",
    "print(test_images)"
   ]
  },
  {
   "cell_type": "code",
   "execution_count": 19,
   "metadata": {},
   "outputs": [],
   "source": [
    "image = cv2.imread(\"examples\\\\coast_osun52.jpg\")\n",
    "hsv = cv2.cvtColor(image, cv2.COLOR_BGR2HSV)\n",
    "features = quantify_image(hsv)"
   ]
  },
  {
   "cell_type": "code",
   "execution_count": null,
   "metadata": {},
   "outputs": [],
   "source": [
    "# Use the anomaly detector model and extracted features to determine \n",
    "# if the test image is an anomaly or not\n",
    "\n",
    "preds = model.predict([features])[0]\n",
    "label = \"anomaly\" if preds == -1 else \"normal\"\n",
    "color = (0, 0, 255) if preds == -1 else (0, 255, 0)\n",
    "\n",
    "# Draw the predicted label text on the original image\n",
    "cv2.putText(image, label, (10, 25), cv2.FONT_HERSHEY_SIMPLEX,\n",
    "           0.7, color, 2)\n",
    "\n",
    "# Display the image\n",
    "cv2.imshow(\"Output\", image)\n",
    "cv2.waitKey(0)"
   ]
  },
  {
   "cell_type": "code",
   "execution_count": null,
   "metadata": {},
   "outputs": [],
   "source": []
  }
 ],
 "metadata": {
  "kernelspec": {
   "display_name": "Python 3",
   "language": "python",
   "name": "python3"
  },
  "language_info": {
   "codemirror_mode": {
    "name": "ipython",
    "version": 3
   },
   "file_extension": ".py",
   "mimetype": "text/x-python",
   "name": "python",
   "nbconvert_exporter": "python",
   "pygments_lexer": "ipython3",
   "version": "3.7.3"
  }
 },
 "nbformat": 4,
 "nbformat_minor": 2
}
