{
 "cells": [
  {
   "cell_type": "markdown",
   "metadata": {},
   "source": [
    "### Credit: Machine Learning Mastery by Jason Brownlee \n",
    "https://machinelearningmastery.com/how-to-develop-a-probabilistic-model-of-breast-cancer-patient-survival/\n",
    "\n",
    "Key Take-aways:\n",
    "\n",
    "- Dataset used is the Haberman Breast Cancer Survival Dataset https://archive.ics.uci.edu/ml/datasets/Haberman's+SurvivalHaberman \n",
    "- The tutorial is not about  “solving breast cancer” but exploring a standard imbalanced classification dataset. This is because the dataset is small and it dates back to a few decades ago.\n",
    "- "
   ]
  },
  {
   "cell_type": "code",
   "execution_count": null,
   "metadata": {},
   "outputs": [],
   "source": []
  }
 ],
 "metadata": {
  "kernelspec": {
   "display_name": "Python 3",
   "language": "python",
   "name": "python3"
  },
  "language_info": {
   "codemirror_mode": {
    "name": "ipython",
    "version": 3
   },
   "file_extension": ".py",
   "mimetype": "text/x-python",
   "name": "python",
   "nbconvert_exporter": "python",
   "pygments_lexer": "ipython3",
   "version": "3.7.3"
  }
 },
 "nbformat": 4,
 "nbformat_minor": 2
}
